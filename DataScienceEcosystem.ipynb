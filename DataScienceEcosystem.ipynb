{
 "cells": [
  {
   "cell_type": "markdown",
   "id": "b2867b17-f7c6-4edd-a518-76a25025d062",
   "metadata": {},
   "source": [
    "<H1>Data Science Tools and Ecosystem</H1>"
   ]
  },
  {
   "cell_type": "markdown",
   "id": "0564072c-8995-4c98-b25a-c26ed687c0f7",
   "metadata": {},
   "source": [
    "In this notebook, Data Science Tools and Ecosystem are summarized."
   ]
  },
  {
   "cell_type": "markdown",
   "id": "9d4af4ee-7a58-44bb-8afd-bb573d3b9fc0",
   "metadata": {},
   "source": [
    "<strong>Objectives: </strong>\n",
    "- Overview of R and RStudio\n",
    "- Plotting with ggplot\n",
    "- GitHub Overview \n",
    "- Creating a GitHub Account"
   ]
  },
  {
   "cell_type": "markdown",
   "id": "c5c75f5d-55a4-45d5-baae-4551a9105cc8",
   "metadata": {},
   "source": [
    "Some of the popular languages that Data Scientists use are:\n",
    "1. Java\n",
    "2. Python\n",
    "3. R"
   ]
  },
  {
   "cell_type": "markdown",
   "id": "fe94fa47-994c-4936-b8c1-45fe77cfa8b7",
   "metadata": {},
   "source": [
    "Some of the commonly used libraries used by Data Scientists include:\n",
    "1. Matplotlib\n",
    "2. NumPy\n",
    "3. Pandas\n",
    "4. SciPy"
   ]
  },
  {
   "cell_type": "markdown",
   "id": "82d10205-d86b-43d2-9d4a-27a0f19d966f",
   "metadata": {},
   "source": [
    "|Num | Open Source Tools | \n",
    "| ------ | ------ | \n",
    "| 1 | Apache Spark |\n",
    "| 2 | RStudio |\n",
    "| 3 | TensorFlow |"
   ]
  },
  {
   "cell_type": "markdown",
   "id": "7d9c0fcb-a631-4f65-91fa-95d8648f58f8",
   "metadata": {
    "tags": []
   },
   "source": [
    "### Below are a few examples of evaluating arithmetic expressions in Python"
   ]
  },
  {
   "cell_type": "code",
   "execution_count": 2,
   "id": "d975d0ba-a6bf-4c3f-9eb8-41569f19c4fa",
   "metadata": {
    "tags": []
   },
   "outputs": [
    {
     "data": {
      "text/plain": [
       "17"
      ]
     },
     "execution_count": 2,
     "metadata": {},
     "output_type": "execute_result"
    }
   ],
   "source": [
    "# This a simple arithmetic expression to mutiply then add integers\n",
    "(3*4)+5"
   ]
  },
  {
   "cell_type": "code",
   "execution_count": 3,
   "id": "2a6e748d-3126-4862-b541-2a3c0fd9d21a",
   "metadata": {
    "tags": []
   },
   "outputs": [
    {
     "data": {
      "text/plain": [
       "3"
      ]
     },
     "execution_count": 3,
     "metadata": {},
     "output_type": "execute_result"
    }
   ],
   "source": [
    "# This will convert 200 minutes to hours by diving by 60\n",
    "200 // 60"
   ]
  },
  {
   "cell_type": "markdown",
   "id": "85e3ba75-bb03-47f3-aab1-7b85b1b85661",
   "metadata": {},
   "source": [
    "## Author\n",
    "Dmitrii"
   ]
  },
  {
   "cell_type": "code",
   "execution_count": null,
   "id": "c156e7e3-0a3d-4aef-8762-c3cb5602ea9b",
   "metadata": {},
   "outputs": [],
   "source": []
  }
 ],
 "metadata": {
  "kernelspec": {
   "display_name": "Python",
   "language": "python",
   "name": "conda-env-python-py"
  },
  "language_info": {
   "codemirror_mode": {
    "name": "ipython",
    "version": 3
   },
   "file_extension": ".py",
   "mimetype": "text/x-python",
   "name": "python",
   "nbconvert_exporter": "python",
   "pygments_lexer": "ipython3",
   "version": "3.7.12"
  }
 },
 "nbformat": 4,
 "nbformat_minor": 5
}
